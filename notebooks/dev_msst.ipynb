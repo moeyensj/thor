{
 "cells": [
  {
   "cell_type": "markdown",
   "metadata": {},
   "source": [
    "# Package Imports"
   ]
  },
  {
   "cell_type": "code",
   "execution_count": null,
   "metadata": {},
   "outputs": [],
   "source": [
    "import glob\n",
    "import os\n",
    "import numpy as np\n",
    "import pandas as pd\n",
    "import sqlite3 as sql\n",
    "import matplotlib.pyplot as plt\n",
    "import matplotlib.patches as patches\n",
    "import seaborn as sns\n",
    "\n",
    "% matplotlib inline\n",
    "\n",
    "import plotly\n",
    "plotly.offline.init_notebook_mode(connected=True)\n",
    "\n",
    "import sys\n",
    "sys.path.append(\"..\")"
   ]
  },
  {
   "cell_type": "code",
   "execution_count": null,
   "metadata": {},
   "outputs": [],
   "source": [
    "import thor\n",
    "\n",
    "config = thor.Config()"
   ]
  },
  {
   "cell_type": "code",
   "execution_count": null,
   "metadata": {},
   "outputs": [],
   "source": [
    "DATABASE = \"../data/msst_survey.db\"\n",
    "con = sql.connect(DATABASE)"
   ]
  },
  {
   "cell_type": "markdown",
   "metadata": {},
   "source": [
    "## Config"
   ]
  },
  {
   "cell_type": "code",
   "execution_count": null,
   "metadata": {},
   "outputs": [],
   "source": [
    "from thor import propagateTestParticle"
   ]
  },
  {
   "cell_type": "markdown",
   "metadata": {},
   "source": [
    "## Plotting Code"
   ]
  },
  {
   "cell_type": "code",
   "execution_count": null,
   "metadata": {},
   "outputs": [],
   "source": [
    "from thor.plotting import plotProjections\n",
    "from thor.plotting import plotProjections3D\n",
    "from thor.plotting import plotObservations\n",
    "from thor.plotting import plotObservations3D\n",
    "from thor.plotting import plotBinnedContour\n",
    "from thor.plotting import plotScatterContour\n",
    "from thor.plotting import plotCell\n",
    "from thor.plotting import _setPercentage"
   ]
  },
  {
   "cell_type": "markdown",
   "metadata": {},
   "source": [
    "## Classes "
   ]
  },
  {
   "cell_type": "code",
   "execution_count": null,
   "metadata": {},
   "outputs": [],
   "source": [
    "from thor import Cell\n",
    "from thor import TestParticle"
   ]
  },
  {
   "cell_type": "markdown",
   "metadata": {},
   "source": [
    "## Functions"
   ]
  },
  {
   "cell_type": "code",
   "execution_count": null,
   "metadata": {},
   "outputs": [],
   "source": [
    "from thor import findAverageObject\n",
    "from thor import findExposureTimes\n",
    "from thor import buildCellForVisit\n",
    "from thor import rangeAndShift\n",
    "from thor import clusterAndLink\n",
    "from thor import analyzeClusters\n",
    "from thor import analyzeProjections\n",
    "from thor import runRangeAndShiftOnVisit\n",
    "from thor import runClusterAndLinkOnVisit"
   ]
  },
  {
   "cell_type": "markdown",
   "metadata": {},
   "source": [
    "# Load Data"
   ]
  },
  {
   "cell_type": "code",
   "execution_count": null,
   "metadata": {},
   "outputs": [],
   "source": [
    "observationsNoNoise = pd.read_sql(\"\"\"SELECT * FROM observations\"\"\", con)\n",
    "print(len(observationsNoNoise))\n",
    "observationsNoNoise.drop_duplicates(subset=[\"designation\", \"exp_mjd\"], inplace=True)\n",
    "print(len(observationsNoNoise))\n",
    "noise = pd.read_sql(\"\"\"SELECT * FROM noise_100\"\"\", con)\n",
    "noise[\"obsId\"] = np.arange(observationsNoNoise[\"obsId\"].values[-1] + 1, observationsNoNoise[\"obsId\"].values[-1] + 1 + len(noise))"
   ]
  },
  {
   "cell_type": "code",
   "execution_count": null,
   "metadata": {},
   "outputs": [],
   "source": [
    "observations = pd.concat([observationsNoNoise, noise], sort=False)\n",
    "observations.reset_index(inplace=True, drop=True)\n",
    "del observationsNoNoise\n",
    "del noise"
   ]
  },
  {
   "cell_type": "code",
   "execution_count": null,
   "metadata": {},
   "outputs": [],
   "source": [
    "survey = pd.read_sql(\"\"\"SELECT * FROM survey\"\"\", con)"
   ]
  },
  {
   "cell_type": "code",
   "execution_count": null,
   "metadata": {},
   "outputs": [],
   "source": [
    "orbits = pd.read_sql(\"\"\"SELECT * FROM mpcOrbitCat\"\"\", con)\n",
    "# Only grab the orbits of objects with observations\n",
    "orbits = orbits[orbits[\"designation\"].isin(observations[\"designation\"].unique())]"
   ]
  },
  {
   "cell_type": "code",
   "execution_count": null,
   "metadata": {},
   "outputs": [],
   "source": [
    "neos = orbits[orbits[\"a_au\"] <= 1.3][\"designation\"].values"
   ]
  },
  {
   "cell_type": "markdown",
   "metadata": {},
   "source": [
    "## Range and Shift"
   ]
  },
  {
   "cell_type": "code",
   "execution_count": null,
   "metadata": {},
   "outputs": [],
   "source": [
    "projected_obs, average_obj = runRangeAndShiftOnVisit(observations, \n",
    "                        1, \n",
    "                        None,\n",
    "                        None,\n",
    "                        useAverageObject=True,\n",
    "                        searchArea=10,\n",
    "                        cellArea=10,\n",
    "                        verbose=False)"
   ]
  },
  {
   "cell_type": "markdown",
   "metadata": {},
   "source": [
    "### Analyze Projections"
   ]
  },
  {
   "cell_type": "code",
   "execution_count": null,
   "metadata": {},
   "outputs": [],
   "source": [
    "allObjects, summary = analyzeProjections(projected_obs)"
   ]
  },
  {
   "cell_type": "code",
   "execution_count": null,
   "metadata": {},
   "outputs": [],
   "source": [
    "fig, ax = plt.subplots(1, 1, dpi=200)\n",
    "ax.errorbar(allObjects[allObjects[\"findable\"] == 1][\"dtheta_x/dt_median\"].values, \n",
    "            allObjects[allObjects[\"findable\"] == 1][\"dtheta_y/dt_median\"].values,\n",
    "            yerr=allObjects[allObjects[\"findable\"] == 1][\"dtheta_y/dt_sigma\"].values,\n",
    "            xerr=allObjects[allObjects[\"findable\"] == 1][\"dtheta_x/dt_sigma\"].values,\n",
    "            fmt=\"o\",\n",
    "            ms=0.01,\n",
    "            capsize=0.1,\n",
    "            elinewidth=0.1,\n",
    "            c=\"k\")\n",
    "ax.set_xlabel(r\"Median $ d\\theta_X / dt$ [Degrees Per Day]\")\n",
    "ax.set_ylabel(r\"Median $ d\\theta_Y / dt$ [Degrees Per Day]\")\n",
    "rect = patches.Rectangle((-0.1,-0.1),0.2,0.2,linewidth=0.5,edgecolor='r',facecolor='none')\n",
    "ax.add_patch(rect)\n",
    "ax.set_title(\"Findable Objects\")\n",
    "ax.text(_setPercentage(ax.get_xlim(), 0.05), _setPercentage(ax.get_ylim(), 0.1), \"Objects: {}\".format(len(allObjects[allObjects[\"findable\"] == 1])))\n",
    "ax.text(_setPercentage(ax.get_xlim(), 0.05), _setPercentage(ax.get_ylim(), 0.04), \"Objects in Grid: {}\".format(len(allObjects[in_zone_findable])), color=\"r\")\n",
    "#fig.savefig(\"../analysis/msst/plots/findable_projection_200bins_0005eps.png\")"
   ]
  },
  {
   "cell_type": "markdown",
   "metadata": {},
   "source": [
    "## Cluster and Link"
   ]
  },
  {
   "cell_type": "code",
   "execution_count": null,
   "metadata": {},
   "outputs": [],
   "source": [
    "allClusters, clusterMembers = clusterAndLink(\n",
    "        projected_obs,\n",
    "        eps=0.005, \n",
    "        minSamples=5, \n",
    "        vxRange=[-0.1, 0.1], \n",
    "        vyRange=[-0.1, 0.1],\n",
    "        vxBins=200,\n",
    "        vyBins=200, \n",
    "        threads=5)"
   ]
  },
  {
   "cell_type": "markdown",
   "metadata": {},
   "source": [
    "## Analysis"
   ]
  },
  {
   "cell_type": "code",
   "execution_count": null,
   "metadata": {},
   "outputs": [],
   "source": [
    "allClusters, clusterMembers, allObjects, summary = analyzeClusters(\n",
    "    projected_obs,\n",
    "    allClusters, \n",
    "    clusterMembers, \n",
    "    allObjects,\n",
    "    summary,\n",
    "    minSamples=5, \n",
    "    partialThreshold=0.8)"
   ]
  },
  {
   "cell_type": "code",
   "execution_count": null,
   "metadata": {},
   "outputs": [],
   "source": []
  },
  {
   "cell_type": "code",
   "execution_count": null,
   "metadata": {},
   "outputs": [],
   "source": [
    "in_zone_findable = ((allObjects[\"dtheta_x/dt_median\"] >= -0.1) \n",
    " & (allObjects[\"dtheta_x/dt_median\"] <= 0.1) \n",
    " & (allObjects[\"dtheta_y/dt_median\"] <= 0.1) \n",
    " & (allObjects[\"dtheta_y/dt_median\"] >= -0.1)\n",
    " & (allObjects[\"findable\"] == 1))\n",
    "\n",
    "in_zone_missed = ((allObjects[\"dtheta_x/dt_median\"] >= -0.1) \n",
    " & (allObjects[\"dtheta_x/dt_median\"] <= 0.1) \n",
    " & (allObjects[\"dtheta_y/dt_median\"] <= 0.1) \n",
    " & (allObjects[\"dtheta_y/dt_median\"] >= -0.1)\n",
    " & (allObjects[\"findable\"] == 1)\n",
    " & (allObjects[\"found\"] == 0))\n",
    "\n",
    "in_smallzone_missed = ((allObjects[\"dtheta_x/dt_median\"] >= -0.03) \n",
    " & (allObjects[\"dtheta_x/dt_median\"] <= 0.03) \n",
    " & (allObjects[\"dtheta_y/dt_median\"] <= 0.03) \n",
    " & (allObjects[\"dtheta_y/dt_median\"] >= -0.03)\n",
    " & (allObjects[\"findable\"] == 1)\n",
    " & (allObjects[\"found\"] == 0))"
   ]
  },
  {
   "cell_type": "code",
   "execution_count": null,
   "metadata": {},
   "outputs": [],
   "source": [
    "fig, ax = plt.subplots(1, 1, dpi=200)\n",
    "ax.errorbar(allObjects[(allObjects[\"found\"] == 1)][\"dtheta_x/dt_median\"].values, \n",
    "            allObjects[(allObjects[\"found\"] == 1)][\"dtheta_y/dt_median\"].values,\n",
    "            yerr=allObjects[(allObjects[\"found\"] == 1)][\"dtheta_y/dt_sigma\"].values,\n",
    "            xerr=allObjects[(allObjects[\"found\"] == 1) ][\"dtheta_x/dt_sigma\"].values,\n",
    "            fmt=\"o\",\n",
    "            ms=0.01,\n",
    "            capsize=0.1,\n",
    "            elinewidth=0.1,\n",
    "            c=\"b\")\n",
    "\n",
    "rect = patches.Rectangle((-0.1,-0.1),0.2,0.2,linewidth=0.5,edgecolor='r',facecolor='none')\n",
    "ax.add_patch(rect)\n",
    "ax.set_xlabel(r\"Median $ d\\theta_X / dt$ [Degrees Per Day]\")\n",
    "ax.set_ylabel(r\"Median $ d\\theta_Y / dt$ [Degrees Per Day]\")\n",
    "\n",
    "ax.set_xlabel(r\"Median $ d\\theta_X / dt$ [Degrees Per Day]\")\n",
    "ax.set_ylabel(r\"Median $ d\\theta_Y / dt$ [Degrees Per Day]\")\n",
    "ax.set_title(\"Found Objects\")\n",
    "ax.set_xlim(-0.11, 0.11)\n",
    "ax.set_ylim(-0.11, 0.11)\n",
    "ax.set_aspect(\"equal\")\n",
    "ax.text(_setPercentage(ax.get_xlim(), 0.06), _setPercentage(ax.get_ylim(), 0.1), \"Objects: {}\".format(len(allObjects[allObjects[\"found\"] == 1])))\n",
    "#fig.savefig(\"../analysis/msst/plots/found_projection_200bins_0007eps.png\")"
   ]
  },
  {
   "cell_type": "code",
   "execution_count": null,
   "metadata": {},
   "outputs": [],
   "source": [
    "fig, ax = plt.subplots(1, 1, dpi=200)\n",
    "ax.errorbar(allObjects[(allObjects[\"found\"] == 0) & (allObjects[\"findable\"] == 1)][\"dtheta_x/dt_median\"].values, \n",
    "            allObjects[(allObjects[\"found\"] == 0) & (allObjects[\"findable\"] == 1)][\"dtheta_y/dt_median\"].values,\n",
    "            yerr=allObjects[(allObjects[\"found\"] == 0) & (allObjects[\"findable\"] == 1)][\"dtheta_y/dt_sigma\"].values,\n",
    "            xerr=allObjects[(allObjects[\"found\"] == 0) & (allObjects[\"findable\"] == 1)][\"dtheta_x/dt_sigma\"].values,\n",
    "            fmt=\"o\",\n",
    "            ms=0.01,\n",
    "            capsize=0.1,\n",
    "            elinewidth=0.1,\n",
    "            c=\"k\")\n",
    "\n",
    "rect = patches.Rectangle((-0.1,-0.1),0.2,0.2,linewidth=0.5,edgecolor='r',facecolor='none')\n",
    "ax.add_patch(rect)\n",
    "ax.set_xlabel(r\"Median $ d\\theta_X / dt$ [Degrees Per Day]\")\n",
    "ax.set_ylabel(r\"Median $ d\\theta_Y / dt$ [Degrees Per Day]\")\n",
    "\n",
    "ax.set_xlabel(r\"Median $ d\\theta_X / dt$ [Degrees Per Day]\")\n",
    "ax.set_ylabel(r\"Median $ d\\theta_Y / dt$ [Degrees Per Day]\")\n",
    "ax.set_title(\"Missed Objects\")\n",
    "ax.set_aspect(\"equal\")\n",
    "ax.text(_setPercentage(ax.get_xlim(), 0.05), _setPercentage(ax.get_ylim(), 0.1), \"Objects: {}\".format(len(allObjects[(allObjects[\"found\"] == 0) & (allObjects[\"findable\"] == 1)])))\n",
    "ax.text(_setPercentage(ax.get_xlim(), 0.05), _setPercentage(ax.get_ylim(), 0.04), \"Objects in Grid: {}\".format(len(allObjects[in_zone_missed])), color=\"r\")\n",
    "#fig.savefig(\"../analysis/msst/plots/missed_projection_200bins_0007eps.png\")"
   ]
  },
  {
   "cell_type": "code",
   "execution_count": null,
   "metadata": {},
   "outputs": [],
   "source": [
    "fig, ax = plt.subplots(1, 1, dpi=200)\n",
    "ax.errorbar(allObjects[(allObjects[\"found\"] == 0) & (allObjects[\"findable\"] == 1)][\"dtheta_x/dt_median\"].values, \n",
    "            allObjects[(allObjects[\"found\"] == 0) & (allObjects[\"findable\"] == 1)][\"dtheta_y/dt_median\"].values,\n",
    "            yerr=allObjects[(allObjects[\"found\"] == 0) & (allObjects[\"findable\"] == 1)][\"dtheta_y/dt_sigma\"].values,\n",
    "            xerr=allObjects[(allObjects[\"found\"] == 0) & (allObjects[\"findable\"] == 1)][\"dtheta_x/dt_sigma\"].values,\n",
    "            fmt=\"o\",\n",
    "            ms=0.01,\n",
    "            capsize=0.1,\n",
    "            elinewidth=0.1,\n",
    "            c=\"k\")\n",
    "\n",
    "rect = patches.Rectangle((-0.1,-0.1),0.2,0.2,linewidth=0.5,edgecolor='r',facecolor='none')\n",
    "ax.add_patch(rect)\n",
    "ax.set_xlabel(r\"Median $ d\\theta_X / dt$ [Degrees Per Day]\")\n",
    "ax.set_ylabel(r\"Median $ d\\theta_Y / dt$ [Degrees Per Day]\")\n",
    "ax.set_title(\"Missed Objects\")\n",
    "\n",
    "ax.set_xlim(-0.11, 0.11)\n",
    "ax.set_ylim(-0.11, 0.11)\n",
    "ax.set_aspect(\"equal\")\n",
    "#fig.savefig(\"../analysis/msst/plots/missed_zoom_projection_200bins_0007eps.png\")"
   ]
  },
  {
   "cell_type": "code",
   "execution_count": null,
   "metadata": {},
   "outputs": [],
   "source": [
    "fig, ax = plt.subplots(1, 1, dpi=300)\n",
    "xbins = np.linspace(-0.1, 0.1, num=400)\n",
    "ybins = np.linspace(-0.1, 0.1, num=400)\n",
    "for xb, yb in zip(xbins, ybins):\n",
    "    ax.hlines(yb, -0.1, 0.1, lw=0.5, alpha=0.5)\n",
    "    ax.vlines(xb, -0.1, 0.1, lw=0.5, alpha=0.5)\n",
    "ax.errorbar(allObjects[(allObjects[\"found\"] == 0) & (allObjects[\"findable\"] == 1)][\"dtheta_x/dt_median\"].values, \n",
    "            allObjects[(allObjects[\"found\"] == 0) & (allObjects[\"findable\"] == 1)][\"dtheta_y/dt_median\"].values,\n",
    "            yerr=allObjects[(allObjects[\"found\"] == 0) & (allObjects[\"findable\"] == 1)][\"dtheta_y/dt_sigma\"].values,\n",
    "            xerr=allObjects[(allObjects[\"found\"] == 0) & (allObjects[\"findable\"] == 1)][\"dtheta_x/dt_sigma\"].values,\n",
    "            fmt=\"o\",\n",
    "            ms=0.01,\n",
    "            capsize=0.1,\n",
    "            elinewidth=0.1,\n",
    "            c=\"r\")\n",
    "\n",
    "rect = patches.Rectangle((-0.1,-0.1),0.2,0.2,linewidth=0.5,edgecolor='r',facecolor='none')\n",
    "ax.add_patch(rect)\n",
    "ax.set_xlabel(r\"Median $ d\\theta_X / dt$ [Degrees Per Day]\")\n",
    "ax.set_ylabel(r\"Median $ d\\theta_Y / dt$ [Degrees Per Day]\")\n",
    "ax.set_title(\"Missed Objects\")\n",
    "\n",
    "ax.set_xlim(-0.11, 0.11)\n",
    "ax.set_ylim(-0.11, 0.11)\n",
    "ax.set_aspect(\"equal\")\n",
    "#fig.savefig(\"../analysis/msst/plots/missed_grid_projection_200bins_0007eps.png\")\n"
   ]
  },
  {
   "cell_type": "code",
   "execution_count": null,
   "metadata": {},
   "outputs": [],
   "source": [
    "fig, ax = plt.subplots(1, 1, dpi=300)\n",
    "xbins = np.linspace(-0.1, 0.1, num=400)\n",
    "ybins = np.linspace(-0.1, 0.1, num=400)\n",
    "xbin_width = xbins[1] - xbins[0]\n",
    "ybin_width = ybins[1] - ybins[0]\n",
    "\n",
    "for xb, yb in zip(xbins, ybins):\n",
    "    ax.hlines(yb, -0.1, 0.1, lw=0.5, alpha=0.5)\n",
    "    ax.vlines(xb, -0.1, 0.1, lw=0.5, alpha=0.5)\n",
    "ax.errorbar(allObjects[(allObjects[\"found\"] == 0) & (allObjects[\"findable\"] == 1)][\"dtheta_x/dt_median\"].values, \n",
    "            allObjects[(allObjects[\"found\"] == 0) & (allObjects[\"findable\"] == 1)][\"dtheta_y/dt_median\"].values,\n",
    "            yerr=allObjects[(allObjects[\"found\"] == 0) & (allObjects[\"findable\"] == 1)][\"dtheta_y/dt_sigma\"].values,\n",
    "            xerr=allObjects[(allObjects[\"found\"] == 0) & (allObjects[\"findable\"] == 1)][\"dtheta_x/dt_sigma\"].values,\n",
    "            fmt=\"o\",\n",
    "            ms=0.5,\n",
    "            capsize=0.1,\n",
    "            elinewidth=0.1,\n",
    "            c=\"r\")\n",
    "\n",
    "rect = patches.Rectangle((-0.1,-0.1),0.2,0.2,linewidth=0.5,edgecolor='r',facecolor='none')\n",
    "ax.add_patch(rect)\n",
    "ax.set_xlabel(r\"Median $ d\\theta_X / dt$ [Degrees Per Day]\")\n",
    "ax.set_ylabel(r\"Median $ d\\theta_Y / dt$ [Degrees Per Day]\")\n",
    "ax.set_title(\"Missed Objects\")\n",
    "\n",
    "ax.set_xlim(-0.03, 0.03)\n",
    "ax.set_ylim(-0.03, 0.03)\n",
    "ax.set_aspect(\"equal\")\n",
    "#fig.savefig(\"../analysis/msst/plots/missed_zoom_grid_200bins_0007eps.png\")"
   ]
  },
  {
   "cell_type": "code",
   "execution_count": null,
   "metadata": {},
   "outputs": [],
   "source": [
    "allObjects[in_smallzone_missed][\"designation\"].values"
   ]
  },
  {
   "cell_type": "code",
   "execution_count": null,
   "metadata": {},
   "outputs": [],
   "source": [
    "fig = plotProjections(projected_obs[projected_obs[\"designation\"].isin(allObjects[in_smallzone_missed][\"designation\"].values)])"
   ]
  },
  {
   "cell_type": "code",
   "execution_count": null,
   "metadata": {},
   "outputs": [],
   "source": [
    "fig = plotProjections3D(projected_obs[projected_obs[\"designation\"].isin(allObjects[in_smallzone_missed][\"designation\"].values)])"
   ]
  },
  {
   "cell_type": "code",
   "execution_count": null,
   "metadata": {},
   "outputs": [],
   "source": [
    "allObjects[in_smallzone_missed][\"dtheta_x/dt_median\"].values"
   ]
  },
  {
   "cell_type": "code",
   "execution_count": null,
   "metadata": {},
   "outputs": [],
   "source": [
    "allClusters_debug, clusterMembers_debug = clusterAndLink(\n",
    "        projected_obs,\n",
    "        eps=0.001, \n",
    "        minSamples=5, \n",
    "        vxValues=allObjects[in_smallzone_missed][\"dtheta_x/dt_median\"].values,\n",
    "        vyValues=allObjects[in_smallzone_missed][\"dtheta_y/dt_median\"].values,\n",
    "        #vxRange=[-0.1, 0.1], \n",
    "        #vyRange=[-0.1, 0.1],\n",
    "        #vxBins=200,\n",
    "        #vyBins=200, \n",
    "        threads=5)"
   ]
  },
  {
   "cell_type": "code",
   "execution_count": null,
   "metadata": {},
   "outputs": [],
   "source": [
    "allClusters_debug, clusterMembers_debug, allObjects_debug, summary_debug = analyzeClusters(\n",
    "    projected_obs,\n",
    "    allClusters_debug, \n",
    "    clusterMembers_debug, \n",
    "    allObjects_debug,\n",
    "    summary_debug,\n",
    "    minSamples=5, \n",
    "    partialThreshold=0.8)"
   ]
  },
  {
   "cell_type": "code",
   "execution_count": null,
   "metadata": {},
   "outputs": [],
   "source": [
    "#aprojected_obs.to_csv(\"project_obs_200x200_visit1.csv\", index=False, sep=\" \")"
   ]
  },
  {
   "cell_type": "code",
   "execution_count": null,
   "metadata": {},
   "outputs": [],
   "source": [
    "visitId = 1\n",
    "columnMapping = config.columnMapping\n",
    "avg_obj = average_obj[columnMapping[\"name\"]].values[0]\n",
    "o = orbits[orbits[columnMapping[\"name\"]] == avg_obj]\n",
    "    \n",
    "found = orbits[orbits[columnMapping[\"name\"]].isin(allObjects[allObjects[\"found\"] == 1][columnMapping[\"name\"]])]\n",
    "missed = orbits[orbits[columnMapping[\"name\"]].isin((allObjects[(allObjects[\"found\"] == 0) & (allObjects[\"findable\"] == 1)][columnMapping[\"name\"]]))]"
   ]
  },
  {
   "cell_type": "code",
   "execution_count": null,
   "metadata": {},
   "outputs": [],
   "source": [
    "fig, ax = plotScatterContour(missed, \n",
    "                             columnMapping[\"a_au\"],\n",
    "                             columnMapping[\"i_deg\"],\n",
    "                             columnMapping[\"e\"],\n",
    "                             plotCounts=False, \n",
    "                             logCounts=True, \n",
    "                             countLevels=4, \n",
    "                             mask=None,\n",
    "                             xLabel=\"a [AU]\",\n",
    "                             yLabel=\"i [deg]\",\n",
    "                             zLabel=\"e\",\n",
    "                             scatterKwargs={\"s\": 1, \"vmin\": 0, \"vmax\": 1})\n",
    "ax.scatter(o[\"a_au\"].values, o[\"i_deg\"].values, c=\"r\", s=20, marker=\"+\")\n",
    "ax.set_title(\"Missed Orbits\\nVisit: {}, Object: {}\".format(visitId, avg_obj))\n",
    "ax.text(_setPercentage(ax.get_xlim(), 0.6), _setPercentage(ax.get_ylim(), 0.95), \"Missed objects: {}\".format(len(missed)))\n"
   ]
  },
  {
   "cell_type": "code",
   "execution_count": null,
   "metadata": {},
   "outputs": [],
   "source": [
    "fig, ax = plotScatterContour(found, \n",
    "                             columnMapping[\"a_au\"],\n",
    "                             columnMapping[\"i_deg\"],\n",
    "                             columnMapping[\"e\"],\n",
    "                             plotCounts=False, \n",
    "                             logCounts=True, \n",
    "                             countLevels=4, \n",
    "                             mask=None,\n",
    "                             xLabel=\"a [AU]\",\n",
    "                             yLabel=\"i [deg]\",\n",
    "                             zLabel=\"e\",\n",
    "                             scatterKwargs={\"s\": 1, \"vmin\": 0, \"vmax\": 1})        \n",
    "ax.scatter(o[\"a_au\"].values, o[\"i_deg\"].values, c=\"r\", s=20, marker=\"+\")\n",
    "ax.set_title(\"Recovered Orbits\\nVisit: {}, Object: {}\".format(visitId, avg_obj))\n",
    "ax.text(_setPercentage(ax.get_xlim(), 0.6), _setPercentage(ax.get_ylim(), 0.95), \"Missed objects: {}\".format(len(found)))\n"
   ]
  },
  {
   "cell_type": "code",
   "execution_count": null,
   "metadata": {},
   "outputs": [],
   "source": [
    "found_obs = projected_obs[projected_obs[columnMapping[\"name\"]].isin(allObjects[allObjects[\"found\"] == 1][columnMapping[\"name\"]])]\n",
    "missed_obs = projected_obs[projected_obs[columnMapping[\"name\"]].isin((allObjects[(allObjects[\"found\"] == 0) & (allObjects[\"findable\"] == 1)][columnMapping[\"name\"]]))]\n",
    "obs = projected_obs[projected_obs[columnMapping[\"name\"]] == avg_obj]"
   ]
  },
  {
   "cell_type": "code",
   "execution_count": null,
   "metadata": {},
   "outputs": [],
   "source": [
    "fig, ax = plotScatterContour(projected_obs, \n",
    "                                 columnMapping[\"obj_dx/dt_au_p_day\"], \n",
    "                                 columnMapping[\"obj_dy/dt_au_p_day\"], \n",
    "                                 columnMapping[\"obj_dz/dt_au_p_day\"],\n",
    "                                 countLevels=4, \n",
    "                                 xLabel=\"dx/dt [AU per day]\",\n",
    "                                 yLabel=\"dy/dt [AU per day]\",\n",
    "                                 zLabel=\"dz/dt [AU per day]\")\n",
    "   \n",
    "#ax.text(_setPercentage(ax.get_xlim(), 0.6), _setPercentage(ax.get_ylim(), 0.95), \"Missed objects: {}\".format(len(missed)))\n",
    "ax.scatter(*obs[[columnMapping[\"obj_dx/dt_au_p_day\"], columnMapping[\"obj_dy/dt_au_p_day\"]]].values.T, c=\"r\", s=1, marker=\"+\")\n",
    "ax.set_title(\"All Orbits\\nVisit: {}, Object: {}\".format(visitId, avg_obj))"
   ]
  },
  {
   "cell_type": "code",
   "execution_count": null,
   "metadata": {},
   "outputs": [],
   "source": [
    "fig, ax = plotScatterContour(missed_obs, \n",
    "                                 columnMapping[\"obj_dx/dt_au_p_day\"], \n",
    "                                 columnMapping[\"obj_dy/dt_au_p_day\"], \n",
    "                                 columnMapping[\"obj_dz/dt_au_p_day\"],\n",
    "                                 countLevels=4, \n",
    "                                 xLabel=\"dx/dt [AU per day]\",\n",
    "                                 yLabel=\"dy/dt [AU per day]\",\n",
    "                                 zLabel=\"dz/dt [AU per day]\")\n",
    "   \n",
    "ax.text(_setPercentage(ax.get_xlim(), 0.6), _setPercentage(ax.get_ylim(), 0.95), \"Missed objects: {}\".format(len(missed)))\n",
    "ax.scatter(*obs[[columnMapping[\"obj_dx/dt_au_p_day\"], columnMapping[\"obj_dy/dt_au_p_day\"]]].values.T, c=\"r\", s=1, marker=\"+\")\n",
    "ax.set_title(\"Missed Orbits\\nVisit: {}, Object: {}\".format(visitId, avg_obj))"
   ]
  },
  {
   "cell_type": "code",
   "execution_count": null,
   "metadata": {},
   "outputs": [],
   "source": [
    "fig, ax = plotScatterContour(found_obs, \n",
    "                                 columnMapping[\"obj_dx/dt_au_p_day\"], \n",
    "                                 columnMapping[\"obj_dy/dt_au_p_day\"], \n",
    "                                 columnMapping[\"obj_dz/dt_au_p_day\"],\n",
    "                                 countLevels=4, \n",
    "                                 xLabel=\"dx/dt [AU per day]\",\n",
    "                                 yLabel=\"dy/dt [AU per day]\",\n",
    "                                 zLabel=\"dz/dt [AU per day]\")\n",
    "   \n",
    "ax.scatter(*obs[[columnMapping[\"obj_dx/dt_au_p_day\"], columnMapping[\"obj_dy/dt_au_p_day\"]]].values.T, c=\"r\", s=1, marker=\"+\")\n",
    "ax.set_title(\"Found Orbits\\nVisit: {}, Object: {}\".format(visitId, avg_obj))\n",
    "ax.text(_setPercentage(ax.get_xlim(), 0.6), _setPercentage(ax.get_ylim(), 0.95), \"Found objects: {}\".format(len(found)))"
   ]
  },
  {
   "cell_type": "code",
   "execution_count": null,
   "metadata": {},
   "outputs": [],
   "source": [
    "colorByObject = False\n",
    "dataframe = missed\n",
    "data = []\n",
    "if colorByObject is True:\n",
    "    for name in dataframe[columnMapping[\"name\"]].unique():\n",
    "        obj = dataframe[dataframe[columnMapping[\"name\"]] == name]\n",
    "        if name == \"NS\":\n",
    "            trace = plotly.graph_objs.Scatter(\n",
    "                x=obj[columnMapping[\"RA_deg\"]],\n",
    "                y=obj[columnMapping[\"Dec_deg\"]],\n",
    "                name=name,\n",
    "                mode=\"markers\",\n",
    "                marker=dict(size=2))\n",
    "        else:\n",
    "            trace = plotly.graph_objs.Scatter(\n",
    "                x=obj[columnMapping[\"RA_deg\"]],\n",
    "                y=obj[columnMapping[\"Dec_deg\"]],\n",
    "                name=name,\n",
    "                mode=\"markers\",\n",
    "                marker=dict(size=2))\n",
    "        data.append(trace)\n",
    "else:\n",
    "    trace = plotly.graph_objs.Scatter(\n",
    "        x=dataframe[columnMapping[\"a_au\"]],\n",
    "        y=dataframe[columnMapping[\"i_deg\"]],\n",
    "        mode=\"markers\",\n",
    "        text=dataframe[columnMapping[\"name\"]],\n",
    "        marker=dict(size=2)\n",
    "    )\n",
    "    data.append(trace)\n",
    "    \n",
    "data.append(plotly.graph_objs.Scatter(\n",
    "        x=dataframe[dataframe[\"designation\"].isin([\"p3143\"])][columnMapping[\"a_au\"]],\n",
    "        y=dataframe[dataframe[\"designation\"].isin([\"p3143\"])][columnMapping[\"i_deg\"]],\n",
    "        mode=\"markers\",\n",
    "        text=dataframe[dataframe[\"designation\"].isin([\"p3143\"])][columnMapping[\"name\"]],\n",
    "        marker=dict(size=5)\n",
    "    ))\n",
    "\n",
    "layout = dict(\n",
    "    width=550,\n",
    "    height=550,\n",
    "    autosize=False,\n",
    "    title=\"\",\n",
    "    scene=dict(\n",
    "        xaxis=dict(\n",
    "            title=\"RA [deg]\",\n",
    "        ),\n",
    "        yaxis=dict(\n",
    "            title=\"Dec [deg]\",\n",
    "        ),\n",
    "        aspectratio = dict(x=1, y=1)))\n",
    "\n",
    "fig = plotly.graph_objs.Figure(data=data, layout=layout)\n",
    "plotly.offline.iplot(fig)"
   ]
  },
  {
   "cell_type": "code",
   "execution_count": null,
   "metadata": {},
   "outputs": [],
   "source": [
    "ooi = [\"h7943\", \"d1608\", \"K13A77A\", \"U0752\", \"K07RM5N\", \"K9320\", \"p3143\", \"25204\", \"i933\", \"K06QA2V\", \"p0707\", \"K18B09U\"]\n",
    "projected_obs_ooi = projected_obs[projected_obs[\"designation\"].isin(ooi)]\n",
    "fig = plotObservations(projected_obs_ooi)"
   ]
  },
  {
   "cell_type": "code",
   "execution_count": null,
   "metadata": {},
   "outputs": [],
   "source": [
    "projected_obs_ooi[projected_obs_ooi[\"designation\"] == \"d1608\"]"
   ]
  },
  {
   "cell_type": "code",
   "execution_count": null,
   "metadata": {},
   "outputs": [],
   "source": [
    "observations[observations[\"designation\"] == \"d1608\"]"
   ]
  },
  {
   "cell_type": "code",
   "execution_count": null,
   "metadata": {},
   "outputs": [],
   "source": [
    "observations[observations[\"designation\"] == \"p3143\"]"
   ]
  },
  {
   "cell_type": "code",
   "execution_count": null,
   "metadata": {},
   "outputs": [],
   "source": [
    "fig = plotObservations(observations[observations[\"designation\"].isin([\"p3143\", \"d1608\"])])"
   ]
  },
  {
   "cell_type": "code",
   "execution_count": null,
   "metadata": {},
   "outputs": [],
   "source": [
    "allClusters_ooi, clusterMembers_ooi = clusterAndLink(\n",
    "        projected_obs_ooi,\n",
    "        eps=0.005, \n",
    "        minSamples=5, \n",
    "        vxRange=[-1, 1], \n",
    "        vyRange=[-1, 1],\n",
    "        vxBins=1000,\n",
    "        vyBins=1000, \n",
    "        threads=40)"
   ]
  },
  {
   "cell_type": "code",
   "execution_count": null,
   "metadata": {},
   "outputs": [],
   "source": [
    "allClusters_ooi, clusterMembers_ooi, allObjects_ooi, summary_ooi = analyzeClusters(\n",
    "    projected_obs_ooi,\n",
    "    allClusters_ooi, \n",
    "    clusterMembers_ooi, \n",
    "    minSamples=5, \n",
    "    partialThreshold=1.0)"
   ]
  },
  {
   "cell_type": "code",
   "execution_count": null,
   "metadata": {},
   "outputs": [],
   "source": []
  },
  {
   "cell_type": "markdown",
   "metadata": {},
   "source": [
    "## Additional Plots"
   ]
  },
  {
   "cell_type": "code",
   "execution_count": null,
   "metadata": {},
   "outputs": [],
   "source": [
    "fig = plotProjections(\n",
    "    projected_obs[projected_obs[\"designation\"].isin(allObjects[allObjects[\"found\"] == 1][\"designation\"].values)],\n",
    "    colorByObject=False)"
   ]
  },
  {
   "cell_type": "code",
   "execution_count": null,
   "metadata": {},
   "outputs": [],
   "source": [
    "fig = plotProjections(\n",
    "    projected_obs[projected_obs[\"designation\"].isin(allObjects[(allObjects[\"findable\"] == 1) & (allObjects[\"found\"] == 0)][\"designation\"].values)],\n",
    "    colorByObject=False)"
   ]
  },
  {
   "cell_type": "code",
   "execution_count": null,
   "metadata": {},
   "outputs": [],
   "source": [
    "fig = plotProjections(\n",
    "    projected_obs[projected_obs[\"designation\"].isin(allObjects[(allObjects[\"findable\"] == 1) & (allObjects[\"found\"] == 0)][\"designation\"].values)],\n",
    "    colorByObject=True)"
   ]
  },
  {
   "cell_type": "code",
   "execution_count": null,
   "metadata": {},
   "outputs": [],
   "source": [
    "fig = plotProjections(\n",
    "    projected_obs[projected_obs[\"obsId\"].isin(clusterMembers[clusterMembers[\"cluster_id\"].isin(allClusters[allClusters[\"pure\"] == 1][\"cluster_id\"].values)][\"obs_id\"])],\n",
    "    colorByObject=False)"
   ]
  },
  {
   "cell_type": "code",
   "execution_count": null,
   "metadata": {},
   "outputs": [],
   "source": [
    "fig = plotProjections3D(\n",
    "    projected_obs[projected_obs[\"obsId\"].isin(clusterMembers[clusterMembers[\"cluster_id\"].isin(allClusters[allClusters[\"pure\"] == 1][\"cluster_id\"].values)][\"obs_id\"])],\n",
    "    colorByObject=False)"
   ]
  },
  {
   "cell_type": "code",
   "execution_count": null,
   "metadata": {},
   "outputs": [],
   "source": [
    "fig = plotProjections3D(\n",
    "    projected_obs[projected_obs[\"obsId\"].isin(clusterMembers[clusterMembers[\"cluster_id\"].isin([allClusters[allClusters[\"num_visits\"] != allClusters[\"num_obs\"]][\"cluster_id\"].values[0]])][\"obs_id\"])],\n",
    "    colorByObject=False)"
   ]
  },
  {
   "cell_type": "code",
   "execution_count": null,
   "metadata": {},
   "outputs": [],
   "source": [
    "fig = plotProjections3D(\n",
    "    projected_obs[projected_obs[\"obsId\"].isin(clusterMembers[clusterMembers[\"cluster_id\"].isin(allClusters[allClusters[\"pure\"] == 1][\"cluster_id\"].values)][\"obs_id\"])],\n",
    "    colorByObject=False)"
   ]
  },
  {
   "cell_type": "code",
   "execution_count": null,
   "metadata": {},
   "outputs": [],
   "source": []
  }
 ],
 "metadata": {
  "kernelspec": {
   "display_name": "Python 3.6",
   "language": "python",
   "name": "py36"
  },
  "language_info": {
   "codemirror_mode": {
    "name": "ipython",
    "version": 3
   },
   "file_extension": ".py",
   "mimetype": "text/x-python",
   "name": "python",
   "nbconvert_exporter": "python",
   "pygments_lexer": "ipython3",
   "version": "3.6.6"
  }
 },
 "nbformat": 4,
 "nbformat_minor": 2
}
